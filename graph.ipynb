{
 "cells": [
  {
   "cell_type": "code",
   "execution_count": 1,
   "metadata": {},
   "outputs": [],
   "source": [
    "import json\n",
    "import requests\n",
    "import pandas as pd"
   ]
  },
  {
   "cell_type": "code",
   "execution_count": 2,
   "metadata": {},
   "outputs": [],
   "source": [
    "r = requests.get(\"http://berkeleyearth.lbl.gov/air-quality/maps/cities/United_States_of_America/Louisiana/Baton_Rouge.txt\")\n"
   ]
  },
  {
   "cell_type": "code",
   "execution_count": 3,
   "metadata": {},
   "outputs": [],
   "source": [
    "import urllib.request  as urllib2\n",
    "import datetime\n",
    "#data = urllib2.urlopen(\"http://berkeleyearth.lbl.gov/air-quality/maps/cities/Sweden/Stockholm/Stockholm.txt\") # it's a file like object and works just like a file\n",
    "data = urllib2.urlopen(\"http://berkeleyearth.lbl.gov/air-quality/maps/cities/United_States_of_America/California/Fresno.txt\") # it's a file like object and works just like a file\n",
    "#data = urllib2.urlopen(\"http://berkeleyearth.lbl.gov/air-quality/maps/cities/India/NCT/New_Delhi.txt\") # it's a file like object and works just like a file\n",
    "\n",
    "City = []\n",
    "dtlist = []\n",
    "PMList = []\n",
    "\n",
    "for line in data:\n",
    "    \n",
    "    formattedLine = line.decode(\"utf-8\")\n",
    "    if \"City:\" in formattedLine:\n",
    "        City = formattedLine.split(':')[1]\n",
    "        continue\n",
    "    elif formattedLine.startswith('%'):\n",
    "        continue\n",
    "    else:\n",
    "        setOfTokens = formattedLine.split()\n",
    "    #print(setOfTokens)\n",
    "    t = datetime.time(int(setOfTokens[3]))\n",
    "    d = datetime.date(int(setOfTokens[0]), int(setOfTokens[1]), int(setOfTokens[2]))\n",
    "    dt = datetime.datetime.combine(d,t)\n",
    "    \n",
    "    dtlist.append(dt)\n",
    "    \n",
    "    PM = setOfTokens[4]\n",
    "    PMList.append(PM)\n",
    "       "
   ]
  },
  {
   "cell_type": "code",
   "execution_count": 4,
   "metadata": {},
   "outputs": [
    {
     "name": "stdout",
     "output_type": "stream",
     "text": [
      "145770 145770\n"
     ]
    }
   ],
   "source": [
    "#import pandas as pd\n",
    "\n",
    "\n",
    "#data = pd.read_csv('http://berkeleyearth.lbl.gov/air-quality/maps/cities/United_States_of_America/Louisiana/Baton_Rouge.txt',sep = '\\t', header=None)\n",
    "print(len(dtlist),len(PMList))\n",
    "d={'date':dtlist,'PM':PMList}"
   ]
  },
  {
   "cell_type": "code",
   "execution_count": 5,
   "metadata": {},
   "outputs": [
    {
     "name": "stdout",
     "output_type": "stream",
     "text": [
      "<class 'pandas._libs.tslibs.timestamps.Timestamp'>\n"
     ]
    }
   ],
   "source": [
    "df = pd.DataFrame(d, columns=['date','PM'])\n",
    "print(type(df.date[0]))"
   ]
  },
  {
   "cell_type": "code",
   "execution_count": 6,
   "metadata": {},
   "outputs": [],
   "source": [
    "df = df.set_index('date')"
   ]
  },
  {
   "cell_type": "code",
   "execution_count": 7,
   "metadata": {},
   "outputs": [],
   "source": [
    "mask = (df.index >= '2018-01-01') & (df.index <= '2018-12-31')\n",
    "df= df.loc[mask]"
   ]
  },
  {
   "cell_type": "code",
   "execution_count": 8,
   "metadata": {},
   "outputs": [],
   "source": [
    "import numpy as np\n",
    "#data = pd.read_csv('C:/Users/charl/Desktop/bigdaat/Stockholm_Temp_2016.csv',sep = ',', header=None)\n",
    "data = pd.read_csv('C:/Users/charl/Desktop/bigdaat/Fresno_Dew_2016.csv',sep = ',', header=None)\n",
    "#data = pd.read_csv('C:/Users/charl/Desktop/bigdaat/New_Delhi_Temp_2016.csv',sep = ',', header=None)\n",
    "df1 =pd.DataFrame(data)\n",
    "df1.columns = ['Source', 'Station', 'Date', 'zdf', 'Hour', 'Temp']\n",
    "from datetime import datetime\n",
    "\n",
    "df1['Date'] =df1['Date'] + \" \" + df1['Hour']+\":00\"\n",
    "\n",
    "df1['Date'] = pd.to_datetime(df1['Date'])\n",
    "\n",
    "del df1['Source']\n",
    "del df1['Station']\n",
    "del df1['Hour']\n",
    "del df1['zdf']\n",
    "\n",
    "#df1 = df1.set_index('Date')\n",
    "\n",
    "df1= df1.replace('\\'-', np.nan)\n",
    "\n",
    "df1['Temp']=df1['Temp'].astype(float)\n",
    "#df1['Dew']=df1['Dew'].astype(float)#\n",
    "#df1 = df1.loc[~df1.index.duplicated(keep='last')]"
   ]
  },
  {
   "cell_type": "code",
   "execution_count": 9,
   "metadata": {},
   "outputs": [
    {
     "name": "stdout",
     "output_type": "stream",
     "text": [
      "<class 'int'>\n"
     ]
    }
   ],
   "source": [
    "import datetime as dt\n",
    "print(type(df1.index[0]))\n",
    "\n",
    "#df1 = df1.loc[~df1.index.duplicated(keep='last')]\n",
    "#df1 = df1.assign(Date=df1.Date.dt.round('H')).head(10)\n",
    "\n",
    "\n",
    "df1 = df1.assign(Date=df1.Date.dt.round('H'))\n",
    "df1 = df1.set_index('Date')\n",
    "\n"
   ]
  },
  {
   "cell_type": "code",
   "execution_count": 10,
   "metadata": {},
   "outputs": [],
   "source": [
    "mask = (df1.index >= '2018-01-01') & (df1.index <= '2018-12-31')\n",
    "df1 = df1.loc[mask]"
   ]
  },
  {
   "cell_type": "code",
   "execution_count": 11,
   "metadata": {},
   "outputs": [
    {
     "name": "stdout",
     "output_type": "stream",
     "text": [
      "                     Temp\n",
      "Date                     \n",
      "2018-12-30 00:00:00   NaN\n",
      "2018-12-30 01:00:00   NaN\n",
      "2018-12-30 02:00:00   NaN\n",
      "2018-12-30 03:00:00   NaN\n",
      "2018-12-30 04:00:00   NaN\n",
      "2018-12-30 05:00:00   NaN\n",
      "2018-12-30 06:00:00   NaN\n",
      "2018-12-30 07:00:00   NaN\n"
     ]
    }
   ],
   "source": [
    "print(df1.tail(8))"
   ]
  },
  {
   "cell_type": "code",
   "execution_count": null,
   "metadata": {},
   "outputs": [],
   "source": []
  },
  {
   "cell_type": "code",
   "execution_count": 12,
   "metadata": {},
   "outputs": [
    {
     "ename": "NameError",
     "evalue": "(\"name 'avg1' is not defined\", 'occurred at index 0')",
     "output_type": "error",
     "traceback": [
      "\u001b[1;31m---------------------------------------------------------------------------\u001b[0m",
      "\u001b[1;31mNameError\u001b[0m                                 Traceback (most recent call last)",
      "\u001b[1;32m<ipython-input-12-8ed0cb19ccdb>\u001b[0m in \u001b[0;36m<module>\u001b[1;34m\u001b[0m\n\u001b[0;32m      5\u001b[0m \u001b[0mdfmerge\u001b[0m\u001b[1;33m.\u001b[0m\u001b[0mcolumns\u001b[0m \u001b[1;33m=\u001b[0m \u001b[1;33m[\u001b[0m\u001b[1;34m'datetime'\u001b[0m\u001b[1;33m,\u001b[0m \u001b[1;34m'Temp'\u001b[0m\u001b[1;33m,\u001b[0m\u001b[1;34m'PM'\u001b[0m\u001b[1;33m]\u001b[0m\u001b[1;33m\u001b[0m\u001b[1;33m\u001b[0m\u001b[0m\n\u001b[0;32m      6\u001b[0m \u001b[0mdfmerge\u001b[0m \u001b[1;33m=\u001b[0m \u001b[0mdfmerge\u001b[0m\u001b[1;33m.\u001b[0m\u001b[0mastype\u001b[0m\u001b[1;33m(\u001b[0m\u001b[1;33m{\u001b[0m\u001b[1;34m\"datetime\"\u001b[0m\u001b[1;33m:\u001b[0m \u001b[0mstr\u001b[0m\u001b[1;33m}\u001b[0m\u001b[1;33m)\u001b[0m\u001b[1;33m\u001b[0m\u001b[1;33m\u001b[0m\u001b[0m\n\u001b[1;32m----> 7\u001b[1;33m \u001b[0mdfmerge\u001b[0m\u001b[1;33m[\u001b[0m\u001b[1;34m'Tempmean'\u001b[0m\u001b[1;33m]\u001b[0m \u001b[1;33m=\u001b[0m \u001b[0mdfmerge\u001b[0m\u001b[1;33m.\u001b[0m\u001b[0mapply\u001b[0m \u001b[1;33m(\u001b[0m\u001b[1;32mlambda\u001b[0m \u001b[0mrow\u001b[0m\u001b[1;33m:\u001b[0m \u001b[0mrow\u001b[0m\u001b[1;33m[\u001b[0m\u001b[1;36m1\u001b[0m\u001b[1;33m]\u001b[0m \u001b[1;33m-\u001b[0m \u001b[0mavg1\u001b[0m\u001b[1;33m,\u001b[0m \u001b[0maxis\u001b[0m\u001b[1;33m=\u001b[0m\u001b[1;36m1\u001b[0m\u001b[1;33m)\u001b[0m\u001b[1;33m\u001b[0m\u001b[1;33m\u001b[0m\u001b[0m\n\u001b[0m\u001b[0;32m      8\u001b[0m \u001b[0mdfmerge\u001b[0m\u001b[1;33m[\u001b[0m\u001b[1;34m'PMmean'\u001b[0m\u001b[1;33m]\u001b[0m \u001b[1;33m=\u001b[0m \u001b[0mdfmerge\u001b[0m\u001b[1;33m.\u001b[0m\u001b[0mapply\u001b[0m \u001b[1;33m(\u001b[0m\u001b[1;32mlambda\u001b[0m \u001b[0mrow\u001b[0m\u001b[1;33m:\u001b[0m \u001b[0mfloat\u001b[0m\u001b[1;33m(\u001b[0m\u001b[0mrow\u001b[0m\u001b[1;33m[\u001b[0m\u001b[1;36m2\u001b[0m\u001b[1;33m]\u001b[0m\u001b[1;33m)\u001b[0m \u001b[1;33m-\u001b[0m \u001b[0mavg2\u001b[0m\u001b[1;33m,\u001b[0m \u001b[0maxis\u001b[0m\u001b[1;33m=\u001b[0m\u001b[1;36m1\u001b[0m\u001b[1;33m)\u001b[0m\u001b[1;33m\u001b[0m\u001b[1;33m\u001b[0m\u001b[0m\n\u001b[0;32m      9\u001b[0m \u001b[0mdfmerge\u001b[0m\u001b[1;33m[\u001b[0m\u001b[1;34m'Numerator'\u001b[0m\u001b[1;33m]\u001b[0m \u001b[1;33m=\u001b[0m \u001b[0mdfmerge\u001b[0m\u001b[1;33m.\u001b[0m\u001b[0mapply\u001b[0m \u001b[1;33m(\u001b[0m\u001b[1;32mlambda\u001b[0m \u001b[0mrow\u001b[0m\u001b[1;33m:\u001b[0m \u001b[0mrow\u001b[0m\u001b[1;33m[\u001b[0m\u001b[1;36m3\u001b[0m\u001b[1;33m]\u001b[0m\u001b[1;33m*\u001b[0m\u001b[0mfloat\u001b[0m\u001b[1;33m(\u001b[0m\u001b[0mrow\u001b[0m\u001b[1;33m[\u001b[0m\u001b[1;36m4\u001b[0m\u001b[1;33m]\u001b[0m\u001b[1;33m)\u001b[0m\u001b[1;33m,\u001b[0m \u001b[0maxis\u001b[0m\u001b[1;33m=\u001b[0m\u001b[1;36m1\u001b[0m\u001b[1;33m)\u001b[0m\u001b[1;33m\u001b[0m\u001b[1;33m\u001b[0m\u001b[0m\n",
      "\u001b[1;32m~\\Anaconda3\\lib\\site-packages\\pandas\\core\\frame.py\u001b[0m in \u001b[0;36mapply\u001b[1;34m(self, func, axis, broadcast, raw, reduce, result_type, args, **kwds)\u001b[0m\n\u001b[0;32m   6485\u001b[0m                          \u001b[0margs\u001b[0m\u001b[1;33m=\u001b[0m\u001b[0margs\u001b[0m\u001b[1;33m,\u001b[0m\u001b[1;33m\u001b[0m\u001b[1;33m\u001b[0m\u001b[0m\n\u001b[0;32m   6486\u001b[0m                          kwds=kwds)\n\u001b[1;32m-> 6487\u001b[1;33m         \u001b[1;32mreturn\u001b[0m \u001b[0mop\u001b[0m\u001b[1;33m.\u001b[0m\u001b[0mget_result\u001b[0m\u001b[1;33m(\u001b[0m\u001b[1;33m)\u001b[0m\u001b[1;33m\u001b[0m\u001b[1;33m\u001b[0m\u001b[0m\n\u001b[0m\u001b[0;32m   6488\u001b[0m \u001b[1;33m\u001b[0m\u001b[0m\n\u001b[0;32m   6489\u001b[0m     \u001b[1;32mdef\u001b[0m \u001b[0mapplymap\u001b[0m\u001b[1;33m(\u001b[0m\u001b[0mself\u001b[0m\u001b[1;33m,\u001b[0m \u001b[0mfunc\u001b[0m\u001b[1;33m)\u001b[0m\u001b[1;33m:\u001b[0m\u001b[1;33m\u001b[0m\u001b[1;33m\u001b[0m\u001b[0m\n",
      "\u001b[1;32m~\\Anaconda3\\lib\\site-packages\\pandas\\core\\apply.py\u001b[0m in \u001b[0;36mget_result\u001b[1;34m(self)\u001b[0m\n\u001b[0;32m    149\u001b[0m             \u001b[1;32mreturn\u001b[0m \u001b[0mself\u001b[0m\u001b[1;33m.\u001b[0m\u001b[0mapply_raw\u001b[0m\u001b[1;33m(\u001b[0m\u001b[1;33m)\u001b[0m\u001b[1;33m\u001b[0m\u001b[1;33m\u001b[0m\u001b[0m\n\u001b[0;32m    150\u001b[0m \u001b[1;33m\u001b[0m\u001b[0m\n\u001b[1;32m--> 151\u001b[1;33m         \u001b[1;32mreturn\u001b[0m \u001b[0mself\u001b[0m\u001b[1;33m.\u001b[0m\u001b[0mapply_standard\u001b[0m\u001b[1;33m(\u001b[0m\u001b[1;33m)\u001b[0m\u001b[1;33m\u001b[0m\u001b[1;33m\u001b[0m\u001b[0m\n\u001b[0m\u001b[0;32m    152\u001b[0m \u001b[1;33m\u001b[0m\u001b[0m\n\u001b[0;32m    153\u001b[0m     \u001b[1;32mdef\u001b[0m \u001b[0mapply_empty_result\u001b[0m\u001b[1;33m(\u001b[0m\u001b[0mself\u001b[0m\u001b[1;33m)\u001b[0m\u001b[1;33m:\u001b[0m\u001b[1;33m\u001b[0m\u001b[1;33m\u001b[0m\u001b[0m\n",
      "\u001b[1;32m~\\Anaconda3\\lib\\site-packages\\pandas\\core\\apply.py\u001b[0m in \u001b[0;36mapply_standard\u001b[1;34m(self)\u001b[0m\n\u001b[0;32m    255\u001b[0m \u001b[1;33m\u001b[0m\u001b[0m\n\u001b[0;32m    256\u001b[0m         \u001b[1;31m# compute the result using the series generator\u001b[0m\u001b[1;33m\u001b[0m\u001b[1;33m\u001b[0m\u001b[1;33m\u001b[0m\u001b[0m\n\u001b[1;32m--> 257\u001b[1;33m         \u001b[0mself\u001b[0m\u001b[1;33m.\u001b[0m\u001b[0mapply_series_generator\u001b[0m\u001b[1;33m(\u001b[0m\u001b[1;33m)\u001b[0m\u001b[1;33m\u001b[0m\u001b[1;33m\u001b[0m\u001b[0m\n\u001b[0m\u001b[0;32m    258\u001b[0m \u001b[1;33m\u001b[0m\u001b[0m\n\u001b[0;32m    259\u001b[0m         \u001b[1;31m# wrap results\u001b[0m\u001b[1;33m\u001b[0m\u001b[1;33m\u001b[0m\u001b[1;33m\u001b[0m\u001b[0m\n",
      "\u001b[1;32m~\\Anaconda3\\lib\\site-packages\\pandas\\core\\apply.py\u001b[0m in \u001b[0;36mapply_series_generator\u001b[1;34m(self)\u001b[0m\n\u001b[0;32m    284\u001b[0m             \u001b[1;32mtry\u001b[0m\u001b[1;33m:\u001b[0m\u001b[1;33m\u001b[0m\u001b[1;33m\u001b[0m\u001b[0m\n\u001b[0;32m    285\u001b[0m                 \u001b[1;32mfor\u001b[0m \u001b[0mi\u001b[0m\u001b[1;33m,\u001b[0m \u001b[0mv\u001b[0m \u001b[1;32min\u001b[0m \u001b[0menumerate\u001b[0m\u001b[1;33m(\u001b[0m\u001b[0mseries_gen\u001b[0m\u001b[1;33m)\u001b[0m\u001b[1;33m:\u001b[0m\u001b[1;33m\u001b[0m\u001b[1;33m\u001b[0m\u001b[0m\n\u001b[1;32m--> 286\u001b[1;33m                     \u001b[0mresults\u001b[0m\u001b[1;33m[\u001b[0m\u001b[0mi\u001b[0m\u001b[1;33m]\u001b[0m \u001b[1;33m=\u001b[0m \u001b[0mself\u001b[0m\u001b[1;33m.\u001b[0m\u001b[0mf\u001b[0m\u001b[1;33m(\u001b[0m\u001b[0mv\u001b[0m\u001b[1;33m)\u001b[0m\u001b[1;33m\u001b[0m\u001b[1;33m\u001b[0m\u001b[0m\n\u001b[0m\u001b[0;32m    287\u001b[0m                     \u001b[0mkeys\u001b[0m\u001b[1;33m.\u001b[0m\u001b[0mappend\u001b[0m\u001b[1;33m(\u001b[0m\u001b[0mv\u001b[0m\u001b[1;33m.\u001b[0m\u001b[0mname\u001b[0m\u001b[1;33m)\u001b[0m\u001b[1;33m\u001b[0m\u001b[1;33m\u001b[0m\u001b[0m\n\u001b[0;32m    288\u001b[0m             \u001b[1;32mexcept\u001b[0m \u001b[0mException\u001b[0m \u001b[1;32mas\u001b[0m \u001b[0me\u001b[0m\u001b[1;33m:\u001b[0m\u001b[1;33m\u001b[0m\u001b[1;33m\u001b[0m\u001b[0m\n",
      "\u001b[1;32m<ipython-input-12-8ed0cb19ccdb>\u001b[0m in \u001b[0;36m<lambda>\u001b[1;34m(row)\u001b[0m\n\u001b[0;32m      5\u001b[0m \u001b[0mdfmerge\u001b[0m\u001b[1;33m.\u001b[0m\u001b[0mcolumns\u001b[0m \u001b[1;33m=\u001b[0m \u001b[1;33m[\u001b[0m\u001b[1;34m'datetime'\u001b[0m\u001b[1;33m,\u001b[0m \u001b[1;34m'Temp'\u001b[0m\u001b[1;33m,\u001b[0m\u001b[1;34m'PM'\u001b[0m\u001b[1;33m]\u001b[0m\u001b[1;33m\u001b[0m\u001b[1;33m\u001b[0m\u001b[0m\n\u001b[0;32m      6\u001b[0m \u001b[0mdfmerge\u001b[0m \u001b[1;33m=\u001b[0m \u001b[0mdfmerge\u001b[0m\u001b[1;33m.\u001b[0m\u001b[0mastype\u001b[0m\u001b[1;33m(\u001b[0m\u001b[1;33m{\u001b[0m\u001b[1;34m\"datetime\"\u001b[0m\u001b[1;33m:\u001b[0m \u001b[0mstr\u001b[0m\u001b[1;33m}\u001b[0m\u001b[1;33m)\u001b[0m\u001b[1;33m\u001b[0m\u001b[1;33m\u001b[0m\u001b[0m\n\u001b[1;32m----> 7\u001b[1;33m \u001b[0mdfmerge\u001b[0m\u001b[1;33m[\u001b[0m\u001b[1;34m'Tempmean'\u001b[0m\u001b[1;33m]\u001b[0m \u001b[1;33m=\u001b[0m \u001b[0mdfmerge\u001b[0m\u001b[1;33m.\u001b[0m\u001b[0mapply\u001b[0m \u001b[1;33m(\u001b[0m\u001b[1;32mlambda\u001b[0m \u001b[0mrow\u001b[0m\u001b[1;33m:\u001b[0m \u001b[0mrow\u001b[0m\u001b[1;33m[\u001b[0m\u001b[1;36m1\u001b[0m\u001b[1;33m]\u001b[0m \u001b[1;33m-\u001b[0m \u001b[0mavg1\u001b[0m\u001b[1;33m,\u001b[0m \u001b[0maxis\u001b[0m\u001b[1;33m=\u001b[0m\u001b[1;36m1\u001b[0m\u001b[1;33m)\u001b[0m\u001b[1;33m\u001b[0m\u001b[1;33m\u001b[0m\u001b[0m\n\u001b[0m\u001b[0;32m      8\u001b[0m \u001b[0mdfmerge\u001b[0m\u001b[1;33m[\u001b[0m\u001b[1;34m'PMmean'\u001b[0m\u001b[1;33m]\u001b[0m \u001b[1;33m=\u001b[0m \u001b[0mdfmerge\u001b[0m\u001b[1;33m.\u001b[0m\u001b[0mapply\u001b[0m \u001b[1;33m(\u001b[0m\u001b[1;32mlambda\u001b[0m \u001b[0mrow\u001b[0m\u001b[1;33m:\u001b[0m \u001b[0mfloat\u001b[0m\u001b[1;33m(\u001b[0m\u001b[0mrow\u001b[0m\u001b[1;33m[\u001b[0m\u001b[1;36m2\u001b[0m\u001b[1;33m]\u001b[0m\u001b[1;33m)\u001b[0m \u001b[1;33m-\u001b[0m \u001b[0mavg2\u001b[0m\u001b[1;33m,\u001b[0m \u001b[0maxis\u001b[0m\u001b[1;33m=\u001b[0m\u001b[1;36m1\u001b[0m\u001b[1;33m)\u001b[0m\u001b[1;33m\u001b[0m\u001b[1;33m\u001b[0m\u001b[0m\n\u001b[0;32m      9\u001b[0m \u001b[0mdfmerge\u001b[0m\u001b[1;33m[\u001b[0m\u001b[1;34m'Numerator'\u001b[0m\u001b[1;33m]\u001b[0m \u001b[1;33m=\u001b[0m \u001b[0mdfmerge\u001b[0m\u001b[1;33m.\u001b[0m\u001b[0mapply\u001b[0m \u001b[1;33m(\u001b[0m\u001b[1;32mlambda\u001b[0m \u001b[0mrow\u001b[0m\u001b[1;33m:\u001b[0m \u001b[0mrow\u001b[0m\u001b[1;33m[\u001b[0m\u001b[1;36m3\u001b[0m\u001b[1;33m]\u001b[0m\u001b[1;33m*\u001b[0m\u001b[0mfloat\u001b[0m\u001b[1;33m(\u001b[0m\u001b[0mrow\u001b[0m\u001b[1;33m[\u001b[0m\u001b[1;36m4\u001b[0m\u001b[1;33m]\u001b[0m\u001b[1;33m)\u001b[0m\u001b[1;33m,\u001b[0m \u001b[0maxis\u001b[0m\u001b[1;33m=\u001b[0m\u001b[1;36m1\u001b[0m\u001b[1;33m)\u001b[0m\u001b[1;33m\u001b[0m\u001b[1;33m\u001b[0m\u001b[0m\n",
      "\u001b[1;31mNameError\u001b[0m: (\"name 'avg1' is not defined\", 'occurred at index 0')"
     ]
    }
   ],
   "source": [
    "#bigdata = df1.append(df, ignore_index=True)\n",
    "merge=pd.merge(df1,df, how='inner', left_index=True, right_index=True)\n",
    "dfmerge = merge.reset_index()\n",
    "dfmerge = dfmerge.dropna(how='any')\n",
    "dfmerge.columns = ['datetime', 'Temp','PM']\n",
    "dfmerge = dfmerge.astype({\"datetime\": str})\n",
    "dfmerge['Tempmean'] = dfmerge.apply (lambda row: row[1] - avg1, axis=1)\n",
    "dfmerge['PMmean'] = dfmerge.apply (lambda row: float(row[2]) - avg2, axis=1)\n",
    "dfmerge['Numerator'] = dfmerge.apply (lambda row: row[3]*float(row[4]), axis=1)\n",
    "dfmerge['Tempmean2'] = dfmerge.apply (lambda row: row[3]*row[3], axis=1)\n",
    "dfmerge['PMmean2'] = dfmerge.apply (lambda row: float(row[4])*float(row[4]), axis=1)\n"
   ]
  },
  {
   "cell_type": "code",
   "execution_count": null,
   "metadata": {},
   "outputs": [],
   "source": [
    "print(dfmerge.head(9))"
   ]
  },
  {
   "cell_type": "code",
   "execution_count": null,
   "metadata": {},
   "outputs": [],
   "source": [
    "import findspark\n",
    "findspark.init()\n",
    "findspark.find()\n",
    "import pyspark\n",
    "findspark.find()"
   ]
  },
  {
   "cell_type": "code",
   "execution_count": null,
   "metadata": {},
   "outputs": [],
   "source": [
    "#from pyspark import SparkContext, SparkConf\n",
    "#from pyspark.sql import SparkSession\n",
    "#conf = pyspark.SparkConf().setAppName('appName').setMaster('local')\n",
    "#sc = pyspark.SparkContext(conf=conf)\n",
    "#spark = SparkSession(sc)"
   ]
  },
  {
   "cell_type": "code",
   "execution_count": null,
   "metadata": {},
   "outputs": [],
   "source": [
    "sc.stop()\n",
    "import findspark\n",
    "findspark.init()\n",
    "import pyspark # Call this only after findspark\n",
    "from pyspark.context import SparkContext\n",
    "from pyspark.sql.session import SparkSession\n",
    "sc = SparkContext.getOrCreate()\n",
    "spark = SparkSession(sc)\n",
    "spark_df = spark.createDataFrame(dfmerge)"
   ]
  },
  {
   "cell_type": "code",
   "execution_count": null,
   "metadata": {},
   "outputs": [],
   "source": [
    "\n",
    "#mask = (dfmerge.index >= '2016-01-01') & (dfmerge.index <= '2016-12-31')\n",
    "#dfmerge.loc[mask]"
   ]
  },
  {
   "cell_type": "code",
   "execution_count": null,
   "metadata": {},
   "outputs": [],
   "source": [
    "spark_df.take(10)"
   ]
  },
  {
   "cell_type": "code",
   "execution_count": null,
   "metadata": {},
   "outputs": [],
   "source": [
    "rdd = spark_df.rdd.map(tuple)"
   ]
  },
  {
   "cell_type": "code",
   "execution_count": null,
   "metadata": {},
   "outputs": [],
   "source": [
    "rdd.take(10)"
   ]
  },
  {
   "cell_type": "code",
   "execution_count": null,
   "metadata": {},
   "outputs": [],
   "source": [
    "a = rdd.map(lambda a: float(a[3])*float(a[4]))"
   ]
  },
  {
   "cell_type": "code",
   "execution_count": null,
   "metadata": {},
   "outputs": [],
   "source": []
  },
  {
   "cell_type": "code",
   "execution_count": null,
   "metadata": {},
   "outputs": [],
   "source": [
    "a.take(10)"
   ]
  },
  {
   "cell_type": "code",
   "execution_count": null,
   "metadata": {},
   "outputs": [],
   "source": [
    "avg1 = rdd.map(lambda x: x[1]).reduce(lambda x, b: x+b)/a.count()"
   ]
  },
  {
   "cell_type": "code",
   "execution_count": null,
   "metadata": {},
   "outputs": [],
   "source": [
    "print(avg1)"
   ]
  },
  {
   "cell_type": "code",
   "execution_count": null,
   "metadata": {},
   "outputs": [],
   "source": [
    "avg2 = rdd.map(lambda x: float(x[2])).reduce(lambda x, b: x+b)/a.count()\n",
    "print(avg2)"
   ]
  },
  {
   "cell_type": "markdown",
   "metadata": {},
   "source": [
    "avg2 = rdd.map(lambda x: float(x[2])).reduce(lambda x, b: x+b)/a.count()\n",
    "avg2"
   ]
  },
  {
   "cell_type": "code",
   "execution_count": null,
   "metadata": {},
   "outputs": [],
   "source": [
    "rdd.take(5)"
   ]
  },
  {
   "cell_type": "code",
   "execution_count": null,
   "metadata": {},
   "outputs": [],
   "source": [
    "num = rdd.map(lambda x: x[5]).reduce(lambda x, b: x+b)\n",
    "print(num, a.count())"
   ]
  },
  {
   "cell_type": "code",
   "execution_count": null,
   "metadata": {},
   "outputs": [],
   "source": [
    "import math\n",
    "x2sum = rdd.map(lambda x: x[6]).reduce(lambda x, b: x+b)\n",
    "y2sum = rdd.map(lambda x: x[7]).reduce(lambda x, b: x+b)\n",
    "print(x2sum, y2sum)\n",
    "num/(math.sqrt(x2sum * y2sum))"
   ]
  },
  {
   "cell_type": "code",
   "execution_count": null,
   "metadata": {},
   "outputs": [],
   "source": [
    "yterm = rdd.map(lambda x: float(x[2])).reduce(lambda x, b: x+b) - a.count()*(10)\n",
    "print(yterm, a.count())"
   ]
  },
  {
   "cell_type": "code",
   "execution_count": null,
   "metadata": {},
   "outputs": [],
   "source": [
    "import numpy as np\n",
    "import matplotlib.pyplot as plt\n",
    "\n",
    "import matplotlib.pyplot as plt\n",
    "import seaborn as sns\n",
    "\n",
    "sns.set(rc={'figure.figsize':(20, 4)})\n",
    "\n",
    "x_values1=df1.index\n",
    "y_values1=df1['Temp']\n",
    "\n",
    "x_values2=df.index\n",
    "y_values2=df['PM']\n",
    "\n",
    "\n",
    "fig=plt.figure()\n",
    "ax=fig.add_subplot(111, label=\"1\")\n",
    "ax2=fig.add_subplot(111, label=\"2\", frame_on=False)\n",
    "\n",
    "ax.plot(x_values1, y_values1, color=\"C0\")\n",
    "ax.set_xlabel(\"Date\", color=\"C0\")\n",
    "ax.set_ylabel(\"Dew in F\", color=\"C0\")\n",
    "ax.tick_params(axis='x', colors=\"C0\")\n",
    "ax.tick_params(axis='y', colors=\"C0\")\n",
    "\n",
    "ax2.scatter(x_values2, y_values2, color=\"C1\")\n",
    "ax2.xaxis.tick_top()\n",
    "ax2.yaxis.tick_right()\n",
    "ax2.set_xlabel('Date', color=\"C1\") \n",
    "ax2.set_ylabel('PM2.5', color=\"C1\")       \n",
    "ax2.xaxis.set_label_position('top') \n",
    "ax2.yaxis.set_label_position('right') \n",
    "ax2.tick_params(axis='x', colors=\"C1\")\n",
    "ax2.tick_params(axis='y', colors=\"C1\")\n",
    "\n",
    "#ax3.plot(x_values3, y_values3, color=\"C3\")\n",
    "#ax3.set_xticks([])\n",
    "#ax3.set_yticks([])\n",
    "\n",
    "plt.show()"
   ]
  },
  {
   "cell_type": "code",
   "execution_count": null,
   "metadata": {},
   "outputs": [],
   "source": [
    "import numpy as np\n",
    "import matplotlib.pyplot as plt\n",
    "x1 = df1.index\n",
    "y1 = df1['Temp']\n",
    "x2 = df.index\n",
    "y2 = df['PM']\n",
    "\n",
    "fig, ax1 = plt.subplots()\n",
    "\n",
    "ax2 = ax1.twinx()\n",
    "\n",
    "#ax1.plot(x1, y1, 'g-')\n",
    "#ax2.plot(x2, y2, 'b-')\n",
    "\n",
    "ax1.set_xlabel('X data')\n",
    "ax1.set_ylabel('Temp data', color='g')\n",
    "ax2.set_ylabel('PM2.5 data', color='b')\n",
    "\n",
    "#plt.scatter(x1,y1)\n",
    "#plt.scatter(x2,y2)\n",
    "\n",
    "plt.show()"
   ]
  },
  {
   "cell_type": "code",
   "execution_count": null,
   "metadata": {},
   "outputs": [],
   "source": [
    "import matplotlib.pyplot as plt\n",
    "import seaborn as sns\n",
    "\n",
    "sns.set(rc={'figure.figsize':(20, 4)})\n",
    "\n",
    "#df1['Temp'].plot(linewidth=0.5)\n",
    "df1['Temp'].plot(linewidth=0.5)"
   ]
  },
  {
   "cell_type": "code",
   "execution_count": null,
   "metadata": {},
   "outputs": [],
   "source": [
    "import matplotlib.pyplot as plt\n",
    "import seaborn as sns\n",
    "\n",
    "sns.set(rc={'figure.figsize':(20, 4)})\n",
    "\n",
    "df['PM']=df['PM'].astype(float)\n",
    "\n",
    "#df1['Temp'].plot(linewidth=0.5)\n",
    "df['PM'].plot(linewidth=0.5)"
   ]
  },
  {
   "cell_type": "code",
   "execution_count": null,
   "metadata": {},
   "outputs": [],
   "source": [
    "print(df.set_index('date'))\n",
    "print(df.head(9))"
   ]
  },
  {
   "cell_type": "code",
   "execution_count": null,
   "metadata": {},
   "outputs": [],
   "source": []
  },
  {
   "cell_type": "code",
   "execution_count": null,
   "metadata": {},
   "outputs": [],
   "source": []
  },
  {
   "cell_type": "code",
   "execution_count": null,
   "metadata": {},
   "outputs": [],
   "source": []
  },
  {
   "cell_type": "code",
   "execution_count": null,
   "metadata": {},
   "outputs": [],
   "source": []
  },
  {
   "cell_type": "code",
   "execution_count": null,
   "metadata": {},
   "outputs": [],
   "source": []
  },
  {
   "cell_type": "code",
   "execution_count": null,
   "metadata": {},
   "outputs": [],
   "source": []
  },
  {
   "cell_type": "code",
   "execution_count": null,
   "metadata": {},
   "outputs": [],
   "source": []
  },
  {
   "cell_type": "code",
   "execution_count": null,
   "metadata": {},
   "outputs": [],
   "source": []
  },
  {
   "cell_type": "code",
   "execution_count": null,
   "metadata": {},
   "outputs": [],
   "source": []
  },
  {
   "cell_type": "code",
   "execution_count": null,
   "metadata": {},
   "outputs": [],
   "source": []
  },
  {
   "cell_type": "code",
   "execution_count": null,
   "metadata": {},
   "outputs": [],
   "source": []
  },
  {
   "cell_type": "code",
   "execution_count": null,
   "metadata": {},
   "outputs": [],
   "source": []
  },
  {
   "cell_type": "code",
   "execution_count": null,
   "metadata": {},
   "outputs": [],
   "source": []
  },
  {
   "cell_type": "code",
   "execution_count": null,
   "metadata": {},
   "outputs": [],
   "source": []
  },
  {
   "cell_type": "code",
   "execution_count": null,
   "metadata": {},
   "outputs": [],
   "source": []
  }
 ],
 "metadata": {
  "kernelspec": {
   "display_name": "Python 3",
   "language": "python",
   "name": "python3"
  },
  "language_info": {
   "codemirror_mode": {
    "name": "ipython",
    "version": 3
   },
   "file_extension": ".py",
   "mimetype": "text/x-python",
   "name": "python",
   "nbconvert_exporter": "python",
   "pygments_lexer": "ipython3",
   "version": "3.7.3"
  }
 },
 "nbformat": 4,
 "nbformat_minor": 2
}
